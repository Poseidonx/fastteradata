{
 "cells": [
  {
   "cell_type": "code",
   "execution_count": 2,
   "metadata": {
    "collapsed": true
   },
   "outputs": [],
   "source": [
    "import pandas as pd\n",
    "import fastteradata as ftd"
   ]
  },
  {
   "cell_type": "code",
   "execution_count": 3,
   "metadata": {
    "collapsed": true
   },
   "outputs": [],
   "source": [
    "def extract(s,t):\n",
    "    print('Working on State: ' + s)\n",
    "    print('Table: ' + t)\n",
    "    ftd.create_metadata_table('ENTPR' + s + '_PRD_VIEWS.'+t, 'PANDA.Z_META_'+s+'_'+t, 'PROD', 'teradata')\n",
    "    ftd.extract_table('/ssd1/jupyterhub/anomaly_detection/MARTY_DATA_PULL/NEW', t,'PROD','ENTPR'+s+'_PRD_VIEWS', nrows=-1, connector='teradata', meta_table='PANDA.Z_META_'+s+'_'+t, clean_and_serialize = False, where_clause = \"EXTRACT(YEAR FROM PD_DT) IN ('2016','2017','2018'), suppress_text = True, step_detail = True)\n",
    "    return"
   ]
  },
  {
   "cell_type": "code",
   "execution_count": null,
   "metadata": {
    "collapsed": false
   },
   "outputs": [
    {
     "name": "stdout",
     "output_type": "stream",
     "text": [
      "Working on State: tx\n",
      "Table: clm_li_diag\n",
      "Starting process for: ENTPRtx_PRD_VIEWS.clm_li_diag\n",
      "Grabbing meta data and generating fast export file...\n",
      "Connecting to ...\n",
      "Connected!\n",
      "finished\n",
      "Calling Fast Export on file...  /ssd1/jupyterhub/anomaly_detection/MARTY_DATA_PULL/NEW/script_clm_li_diag_export.txt\n",
      "fexp < /ssd1/jupyterhub/anomaly_detection/MARTY_DATA_PULL/NEW/script_clm_li_diag_export.txt\n",
      "0001 .LOGTABLE PANDA.fexplog; \n",
      "0002 .LOGON EDWP/U355905,;\n",
      "0003 .BEGIN EXPORT; \n",
      "0004  .EXPORT OUTFILE\n",
      "**** 15:28:44 UTY8724 Select request submitted to the RDBMS.\n",
      "**** 15:29:15 UTY8725 Select execution completed. 55430 data blocks generated.\n"
     ]
    }
   ],
   "source": [
    "extract('tx','clm_li_diag')"
   ]
  },
  {
   "cell_type": "code",
   "execution_count": null,
   "metadata": {
    "collapsed": true
   },
   "outputs": [],
   "source": []
  }
 ],
 "metadata": {
  "kernelspec": {
   "display_name": "Python 3",
   "language": "python",
   "name": "python3"
  },
  "language_info": {
   "codemirror_mode": {
    "name": "ipython",
    "version": 3
   },
   "file_extension": ".py",
   "mimetype": "text/x-python",
   "name": "python",
   "nbconvert_exporter": "python",
   "pygments_lexer": "ipython3",
   "version": "3.6.0"
  }
 },
 "nbformat": 4,
 "nbformat_minor": 2
}
