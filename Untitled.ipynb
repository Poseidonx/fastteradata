{
 "cells": [
  {
   "cell_type": "code",
   "execution_count": 6,
   "metadata": {
    "collapsed": true
   },
   "outputs": [],
   "source": [
    "import pandas as pd\n",
    "import fastteradata as ftd"
   ]
  },
  {
   "cell_type": "code",
   "execution_count": 7,
   "metadata": {
    "collapsed": false
   },
   "outputs": [],
   "source": [
    "def extract(s,t):\n",
    "    print('Working on State: ' + s)\n",
    "    print('Table: ' + t)\n",
    "    ftd.create_metadata_table('ENTPR' + s + '_PRD_VIEWS.'+t, 'PANDA.Z_META_'+s+'_'+t, 'PROD', 'teradata')\n",
    "    ftd.extract_table('/ssd1/jupyterhub/anomaly_detection/MARTY_DATA_PULL/NEW', t,'PROD','ENTPR'+s+'_PRD_VIEWS', nrows=-1, connector='teradata', meta_table='PANDA.Z_META_'+s+'_'+t, clean_and_serialize = False, where_clause = \"EXTRACT(YEAR FROM PD_DT) IN ('2016','2017','2018')\", suppress_text = True, step_detail = True)\n",
    "    return"
   ]
  },
  {
   "cell_type": "code",
   "execution_count": null,
   "metadata": {
    "collapsed": false
   },
   "outputs": [
    {
     "name": "stdout",
     "output_type": "stream",
     "text": [
      "Working on State: nm\n",
      "Table: mbr\n",
      "Starting process for: ENTPRnm_PRD_VIEWS.mbr\n",
      "Grabbing meta data and generating fast export file...\n",
      "Connecting to ...\n",
      "Connected!\n"
     ]
    }
   ],
   "source": [
    "extract('nm','mbr')"
   ]
  },
  {
   "cell_type": "code",
   "execution_count": null,
   "metadata": {
    "collapsed": true
   },
   "outputs": [],
   "source": []
  }
 ],
 "metadata": {
  "kernelspec": {
   "display_name": "Python 3",
   "language": "python",
   "name": "python3"
  },
  "language_info": {
   "codemirror_mode": {
    "name": "ipython",
    "version": 3
   },
   "file_extension": ".py",
   "mimetype": "text/x-python",
   "name": "python",
   "nbconvert_exporter": "python",
   "pygments_lexer": "ipython3",
   "version": "3.6.0"
  }
 },
 "nbformat": 4,
 "nbformat_minor": 2
}
