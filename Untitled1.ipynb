{
 "cells": [
  {
   "cell_type": "code",
   "execution_count": 77,
   "metadata": {
    "collapsed": true
   },
   "outputs": [],
   "source": [
    "string_1 ='**** 22:02:31 UTY8725 Select execution completed. 235774 data blocks generated.'\n",
    "string_2 = '     UTY8732 15643.42 blocks processed per minute (running average).'"
   ]
  },
  {
   "cell_type": "code",
   "execution_count": 86,
   "metadata": {
    "collapsed": false
   },
   "outputs": [
    {
     "name": "stdout",
     "output_type": "stream",
     "text": [
      "15,643/23,577: 66%\n"
     ]
    }
   ],
   "source": [
    "find_1a = string_1.find('.')\n",
    "find_2a = string_1[find_1+2:].find(' ')\n",
    "total_blocks = int(string_1[find_1a+2:-(len(string_1)-find_1a-find_2a-2)])\n",
    "\n",
    "find_1b = string_2.rfind('blocks')-1\n",
    "find_2b = string_2[:-len(string_2)+find_1b].rfind(' ')\n",
    "current_blocks = int(string_2[find_2b+1:-len(string_2)+find_1b-3])\n",
    "print(str(\"{:,}\".format(current_blocks)) + '/' + str(\"{:,}\".format(total_blocks)) + ': ' + str(int(current_blocks*100/total_blocks)) + '%')"
   ]
  },
  {
   "cell_type": "code",
   "execution_count": null,
   "metadata": {
    "collapsed": false
   },
   "outputs": [],
   "source": []
  },
  {
   "cell_type": "code",
   "execution_count": null,
   "metadata": {
    "collapsed": true
   },
   "outputs": [],
   "source": []
  }
 ],
 "metadata": {
  "kernelspec": {
   "display_name": "Python 3",
   "language": "python",
   "name": "python3"
  },
  "language_info": {
   "codemirror_mode": {
    "name": "ipython",
    "version": 3
   },
   "file_extension": ".py",
   "mimetype": "text/x-python",
   "name": "python",
   "nbconvert_exporter": "python",
   "pygments_lexer": "ipython3",
   "version": "3.6.0"
  }
 },
 "nbformat": 4,
 "nbformat_minor": 2
}
